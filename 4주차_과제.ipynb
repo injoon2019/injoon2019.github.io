{
  "nbformat": 4,
  "nbformat_minor": 0,
  "metadata": {
    "colab": {
      "name": "4주차_과제.ipynb",
      "provenance": [],
      "collapsed_sections": [],
      "include_colab_link": true
    },
    "kernelspec": {
      "name": "python3",
      "display_name": "Python 3"
    }
  },
  "cells": [
    {
      "cell_type": "markdown",
      "metadata": {
        "id": "view-in-github",
        "colab_type": "text"
      },
      "source": [
        "<a href=\"https://colab.research.google.com/github/injoon2019/injoon2019.github.io/blob/master/4%EC%A3%BC%EC%B0%A8_%EA%B3%BC%EC%A0%9C.ipynb\" target=\"_parent\"><img src=\"https://colab.research.google.com/assets/colab-badge.svg\" alt=\"Open In Colab\"/></a>"
      ]
    },
    {
      "cell_type": "markdown",
      "metadata": {
        "id": "wxkL6PjwsI6L",
        "colab_type": "text"
      },
      "source": [
        "# 4주차 과제\n",
        "- 용어 정리\n",
        "- 딥러닝 강의 클론 코딩\n",
        "- 딥러닝 순전파 & 역전파 계산"
      ]
    },
    {
      "cell_type": "markdown",
      "metadata": {
        "id": "ixEtDe6_uGgI",
        "colab_type": "text"
      },
      "source": [
        "## 1. 용어 정리\n",
        "\n",
        "다음 제시된 단어의 정의(설명)를 정리하여 작성 하세요.\n",
        "\n",
        "* 2문장 이상 작성 해 주세요. \n",
        "* 주제(단어)와 크게 벗어나지만 않는다면 정답처리 됩니다.\n",
        "* 강의 뿐 아니라 기타 레퍼런스를 참고하여 작성하셔도 됩니다. (기타 레퍼런스를 참고하신 경우, 해당 레퍼런스를 정리하여 하단에 작성해 주세요.)\n"
      ]
    },
    {
      "cell_type": "markdown",
      "metadata": {
        "id": "0lfwat8eurKZ",
        "colab_type": "text"
      },
      "source": [
        "__(예시)__\n",
        "### 심층 신경망\n",
        ": 입력층과 출력층 사이에 여러 개의 은닉층들로 이뤄진 인공신경망이다. 심층 신경망은 일반적으로 인공신경망과 마찬가지로 복잡한 비선형 관계들을 모델링 할 수 있다. 신층신경망의 목적은 분류 및 수치예측을 하기 위함이고 이미지 트레이닝이나 문자인식과 같은 분야에서 매우 유용하게 쓰이고 있다."
      ]
    },
    {
      "cell_type": "markdown",
      "metadata": {
        "id": "Y8YJNKG_v65A",
        "colab_type": "text"
      },
      "source": [
        "### MCP 뉴런\n",
        "맥컬록-피츠(MCP) 뉴런이란, 생물학적 뇌가 동작하는 방식을 AI에 접복 시킨 것이다. 신경 세포를 이진 출력을 나타내는 논리 회로로 표현한 것으로, 합쳐진 신호가 특정 임계 값을 넘으면 출력 신호가 생성된다.\n",
        "출처: https://thebook.io/007022/ch02/01/\n",
        "### 퍼셉트론\n",
        ":퍼셉트론이란 딥러닝의 기원이 되는 것으로, \n",
        "다수의 신호를 입력 받아 하나의 신호를 출력하는 것이다. 각 신호에는 고유의 weight, 가중치가 있다. \n",
        "출처: https://excelsior-cjh.tistory.com/169\n",
        "### 역전파\n",
        ": 뉴런의 가중치를 조정하기 위해, 거꾸로 무언가를 전파하는 방식이다. 역전파는 손실 함수가 최소값일 때의 가중치로 원래의 가중치를 조정해야한다.\n",
        "출처: precourse 4주차 강의\n",
        "\n",
        "### 강화학습\n",
        ":지도학습처럼 정답이 있지도 않고, 비지도 학습처럼 데이터만을 기반으로 학습하지도 않는다. 강화학습은 에이전트가 환경과 상호 작용하며, 이 환경에서는 보상이라는 기준이 있어서 다양한 시행착오를 겪어가며 보상을 최대화하는 방법으로 학습을 진행하여 보상을 최대화하려는 의사 결정이다.\n",
        "출처: precourse 4주차 강의\n",
        "\n",
        "### 과적합\n",
        ":과적합(overfitting)은 기계 학습(machine learning)에서 학습 데이타를 과하게 학습(overfitting)하는 것을 뜻한다. 일반적으로 학습 데이타는 실제 데이타의 부분 집합이므로 학습데이타에 대해서는 오차가 감소하지만 실제 데이타에 대해서는 오차가 증가하게 된다.\n",
        "\n",
        "출처:https://ko.wikipedia.org/wiki/%EA%B3%BC%EC%A0%81%ED%95%A9#:~:text=%EA%B3%BC%EC%A0%81%ED%95%A9(overfitting)%EC%9D%80%20%EA%B8%B0%EA%B3%84,%EC%98%A4%EC%B0%A8%EA%B0%80%20%EC%A6%9D%EA%B0%80%ED%95%98%EA%B2%8C%20%EB%90%9C%EB%8B%A4.\n",
        "\n",
        "### 차원의 저주\n",
        ": \n",
        "차원의 저주: 고정된 크기의 훈련 데이터셋 차원이 늘어남에 따라 특성 공간이 점점 희소해 지는 현상이다. 차원의 저주를 피하기 위해, 올바른 변수의 선택, 차원 축소 기법등 사용 가능. \n",
        "출처: precourse 3주차 강의"
      ]
    },
    {
      "cell_type": "markdown",
      "metadata": {
        "id": "d-zfFXLCy6jD",
        "colab_type": "text"
      },
      "source": [
        "## 2. 딥러닝 강의 클론 코딩\n",
        "\n",
        "####__퍼셉트론 구조 구현하기__ \n",
        "딥러닝 강의(__딥러닝 원리[1] 3:15 ~ 5:15 부분__)를 보고 코드를 따라 치며 출력 결과를 만드세요.\n",
        " \n",
        "\n",
        "* 하나의 코드셀에 해당 코드를 한번에 다 적어서 실행해주세요 (__그렇게 하지 않을 경우, 아래 이미지와 같은 출력값이 나오지 않을 수 있습니다__)\n",
        "\n",
        "*__주의!__ 실제로 코딩해서 출력해보면 강의에 나온 출력 결과와 다르게 나옵니다!!\n"
      ]
    },
    {
      "cell_type": "code",
      "metadata": {
        "id": "EzofEiBg44YH",
        "colab_type": "code",
        "colab": {
          "base_uri": "https://localhost:8080/",
          "height": 210
        },
        "outputId": "bfed5d73-9668-4856-f8e6-10dc63276cfb"
      },
      "source": [
        "import tensorflow as tf\n",
        "tf.compat.v1.set_random_seed(2020)\n",
        "x = 1\n",
        "y = 0\n",
        "w = tf.random.normal([1], 0, 1)\n",
        "\n",
        "import math\n",
        "def sigmoid(x):\n",
        "  return 1/(1+ math.exp(-x))\n",
        "\n",
        "output = sigmoid(x*w)\n",
        "print(output)\n",
        "\n",
        "for i in range(1000):\n",
        "  output = sigmoid(x*w)\n",
        "  error = y - output\n",
        "  w = w+ x*0.1*error  #경사하강법\n",
        "\n",
        "  if i%100 == 99:\n",
        "    print(\"학습 횟수\", i, \"Error:\", error, \"예측 결과:\", output)"
      ],
      "execution_count": 4,
      "outputs": [
        {
          "output_type": "stream",
          "text": [
            "0.47477188589261\n",
            "학습 횟수 99 Error: -0.10010598284299604 예측 결과: 0.10010598284299604\n",
            "학습 횟수 199 Error: -0.05178399422833116 예측 결과: 0.05178399422833116\n",
            "학습 횟수 299 Error: -0.034590451977903586 예측 결과: 0.034590451977903586\n",
            "학습 횟수 399 Error: -0.02588962752851373 예측 결과: 0.02588962752851373\n",
            "학습 횟수 499 Error: -0.020658699939863617 예측 결과: 0.020658699939863617\n",
            "학습 횟수 599 Error: -0.017174253993457355 예측 결과: 0.017174253993457355\n",
            "학습 횟수 699 Error: -0.014689506449480992 예측 결과: 0.014689506449480992\n",
            "학습 횟수 799 Error: -0.012829497265431342 예측 결과: 0.012829497265431342\n",
            "학습 횟수 899 Error: -0.011385568271837804 예측 결과: 0.011385568271837804\n",
            "학습 횟수 999 Error: -0.010232493309882492 예측 결과: 0.010232493309882492\n"
          ],
          "name": "stdout"
        }
      ]
    },
    {
      "cell_type": "markdown",
      "metadata": {
        "id": "wcc5mzI9oZ7r",
        "colab_type": "text"
      },
      "source": [
        "![대체 텍스트](https://www.notion.so/image/https%3A%2F%2Fs3-us-west-2.amazonaws.com%2Fsecure.notion-static.com%2F0cceeed0-0235-4b0f-af88-0b8c377d5b4b%2F_2020-06-09__9.35.23.png?table=block&id=88fd8912-9356-49a4-9fda-a1a63fe96ea9&width=2870&cache=v2)"
      ]
    },
    {
      "cell_type": "markdown",
      "metadata": {
        "id": "kr0HVRk8fOom",
        "colab_type": "text"
      },
      "source": [
        "## 3. 딥러닝 순전파 & 역전파 계산\n",
        "\n",
        "딥러닝 강의(__딥러닝 원리[2] 0:55 ~ 4:32 부분__)에 나오는 순전파 & 역전파 계산에 대한 문제 입니다.\n",
        "\n",
        "해당 영상과 다음 이미지를 참고하여 다음 2가지 물음에 답하세요.\n",
        "\n",
        "\n",
        "(1) 학습률이 0.2 일 경우 출력층의 노드값\n",
        "\n",
        "(2) 학습률이 0.1과 0.2 중 기대출력값이 지도데이터 \"3\"과 더 가까운 학습률은?"
      ]
    },
    {
      "cell_type": "markdown",
      "metadata": {
        "id": "CpwPFWhOUzww",
        "colab_type": "text"
      },
      "source": [
        "![대체 텍스트](https://www.notion.so/image/https%3A%2F%2Fs3-us-west-2.amazonaws.com%2Fsecure.notion-static.com%2Ff54dfd45-92ec-44ae-9616-6949d2484a45%2F_2020-06-10__5.22.03.png?table=block&id=ee05da89-3ceb-4ad9-a2d3-c9f68d24d1d9&width=3580&cache=v2)"
      ]
    },
    {
      "cell_type": "markdown",
      "metadata": {
        "id": "B2OVY7w5U3CI",
        "colab_type": "text"
      },
      "source": [
        "## (1) 학습률이 0.2 일 경우 출력층의 노드값 : 1.6\n",
        "## (2) 학습률이 0.1과 0.2 중 기대출력값이 지도데이터 \"3\"과 더 가까운 학습률은?  : 0.1"
      ]
    },
    {
      "cell_type": "code",
      "metadata": {
        "id": "BgavfvqiWxBU",
        "colab_type": "code",
        "colab": {}
      },
      "source": [
        ""
      ],
      "execution_count": 0,
      "outputs": []
    }
  ]
}