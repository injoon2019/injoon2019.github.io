{
  "nbformat": 4,
  "nbformat_minor": 0,
  "metadata": {
    "colab": {
      "name": "Untitled0.ipynb",
      "provenance": [],
      "collapsed_sections": [],
      "authorship_tag": "ABX9TyPRIfPgA8nAgCs3i0qIbsYh",
      "include_colab_link": true
    },
    "kernelspec": {
      "name": "python3",
      "display_name": "Python 3"
    }
  },
  "cells": [
    {
      "cell_type": "markdown",
      "metadata": {
        "id": "view-in-github",
        "colab_type": "text"
      },
      "source": [
        "<a href=\"https://colab.research.google.com/github/injoon2019/injoon2019.github.io/blob/master/Untitled0.ipynb\" target=\"_parent\"><img src=\"https://colab.research.google.com/assets/colab-badge.svg\" alt=\"Open In Colab\"/></a>"
      ]
    },
    {
      "cell_type": "code",
      "metadata": {
        "id": "-0ZK3EICwp7t",
        "colab_type": "code",
        "colab": {}
      },
      "source": [
        ""
      ],
      "execution_count": 0,
      "outputs": []
    },
    {
      "cell_type": "markdown",
      "metadata": {
        "id": "Vht9e5QXw4Ds",
        "colab_type": "text"
      },
      "source": [
        "# 1. 언어\n",
        "  [삼성 인공지능 번역기 기사](https://www.asiae.co.kr/article/2019012511182807082)\n",
        "  <img src=\"https://cphoto.asiae.co.kr/listimglink/1/2019012511114299036_1548382301.jpg\"\n",
        "     alt=\"삼성 번역기\"\n",
        "     style=\"float: left; margin-right: 10px;\" />\n",
        "\n",
        "# 2. 음성\n",
        "  [아마존 알렉사 음성인식 기사 ](https://www.yna.co.kr/view/AKR201911280125000752)\n",
        "  <img src=\"https://img4.yna.co.kr/etc/inner/KR/2019/11/28/AKR20191128012500075_01_i_P4.jpg\"\n",
        "     alt=\"아마존 알렉사\"\n",
        "     style=\"float: left; margin-right: 10px;\" />\n",
        "\n",
        "# 3. 이미지\n",
        "  [LG CNS 이미지 인식 기사 ](https://biz.chosun.com/site/data/html_dir/2020/05/12/2020051201241.html)\n",
        "  <img src=\"https://image.chosun.com/sitedata/image/202005/12/2020051201236_0.jpg\"\n",
        "     alt=\"LG CNS 이미지 인식\"\n",
        "     style=\"float: left; margin-right: 10px;\" />\n",
        "# 4. 자율주행\n",
        "  [테슬라 자율 주행 기사 ](https://news.joins.com/article/23657075)\n",
        "  <img src=\"https://img.appstory.co.kr/@files/monthly.appstory.co.kr/content/201905/3e095631b4c68f9e5e3400f0eedc6544.png\"\n",
        "     alt=\"테슬라 자율 주행\"\n",
        "     style=\"float: left; margin-right: 10px;\" />\n",
        "\n",
        "# 공부해보고 싶은 분야\n",
        "다 경험해보지 않은 분야라 흥미로워 보이지만, 그 중에서도 자율 주행 부분이 더 크고 다이나믹하게 느껴져 관심이 더욱 감. "
      ]
    }
  ]
}